{
 "cells": [
  {
   "cell_type": "code",
   "execution_count": null,
   "metadata": {},
   "outputs": [],
   "source": [
    "import camelot\n",
    "import pandas as pd\n",
    "import json\n",
    "from functools import reduce\n",
    "import matplotlib.pyplot as plt"
   ]
  },
  {
   "cell_type": "code",
   "execution_count": null,
   "metadata": {},
   "outputs": [],
   "source": [
    "def get_data(tables):\n",
    "    data_frames = []\n",
    "    for i in range(len(tables)):\n",
    "        data_frames.append(tables[i].df)\n",
    "    return data_frames        "
   ]
  },
  {
   "cell_type": "code",
   "execution_count": null,
   "metadata": {},
   "outputs": [],
   "source": [
    "data_frames = get_data(camelot.read_pdf('edital.pdf', pages='1-54', flavor='lattice', strip_text='\\n'))"
   ]
  },
  {
   "cell_type": "code",
   "execution_count": null,
   "metadata": {},
   "outputs": [],
   "source": [
    "df = reduce(lambda left,right: pd.merge(left,right,on=[0,1,2,3,4],how='outer'), data_frames)\n",
    "df.drop(0, inplace=True)\n",
    "df.rename(columns={\n",
    "    0:'Estudante', 1:'Unidade', 2:'Título do Trabalho', \n",
    "    3:'Programa', 4:'Data da apresentação'},inplace=True)"
   ]
  },
  {
   "cell_type": "code",
   "execution_count": null,
   "metadata": {},
   "outputs": [],
   "source": [
    "with open('docs/total.json','w', encoding='utf-8') as file: file.write(json.dumps(df.to_dict(), ensure_ascii=False, indent=4))        \n",
    "df.to_excel('docs/total.xlsx', sheet_name='Sheet1', index=False)"
   ]
  },
  {
   "cell_type": "code",
   "execution_count": null,
   "metadata": {},
   "outputs": [],
   "source": [
    "df"
   ]
  },
  {
   "cell_type": "code",
   "execution_count": null,
   "metadata": {},
   "outputs": [],
   "source": [
    "df.groupby(['Unidade']).groups.keys()"
   ]
  },
  {
   "cell_type": "code",
   "execution_count": null,
   "metadata": {},
   "outputs": [],
   "source": [
    "len(df.groupby(['Unidade']).groups['CPPP'])"
   ]
  },
  {
   "cell_type": "code",
   "execution_count": null,
   "metadata": {},
   "outputs": [],
   "source": [
    "df.groupby(['Unidade']).count().reset_index().sort_values(by='Estudante',ascending=False)"
   ]
  },
  {
   "cell_type": "markdown",
   "metadata": {},
   "source": [
    "# **Quantidade de apresentações por campus**"
   ]
  },
  {
   "cell_type": "code",
   "execution_count": null,
   "metadata": {},
   "outputs": [],
   "source": [
    "ordenado = df.groupby(['Unidade']).count().reset_index().sort_values(by='Estudante',ascending=False)[['Unidade','Estudante']].reset_index().drop('index',axis=1)"
   ]
  },
  {
   "cell_type": "code",
   "execution_count": null,
   "metadata": {},
   "outputs": [],
   "source": [
    "qtd_unidade = ordenado.rename(columns={'Estudante':'Quantidade'}).set_index('Unidade')"
   ]
  },
  {
   "cell_type": "code",
   "execution_count": null,
   "metadata": {},
   "outputs": [],
   "source": [
    "# qtd_unidade.set_index('Unidade',inplace=True)"
   ]
  },
  {
   "cell_type": "code",
   "execution_count": null,
   "metadata": {},
   "outputs": [],
   "source": [
    "qtd_unidade"
   ]
  },
  {
   "cell_type": "code",
   "execution_count": null,
   "metadata": {},
   "outputs": [],
   "source": [
    "# qtd_excel.reset_index() voltar para o q era antes"
   ]
  },
  {
   "cell_type": "code",
   "execution_count": null,
   "metadata": {},
   "outputs": [],
   "source": [
    "qtd_unidade.to_excel('docs/qtd_unidade.xlsx')"
   ]
  },
  {
   "cell_type": "code",
   "execution_count": null,
   "metadata": {},
   "outputs": [],
   "source": [
    "#https://matplotlib.org/2.0.0/examples/color/named_colors.html\n",
    "colors = ['b','teal','#99ff99','#ffcc99', '#52BE80', '#F7DC6F', '#6C3483', 'crimson', 'darkturquoise', '#4A235A', '#F39C12', 'green', 'hotpink', '#800000', '#FFFF00', '#00FF00', '#FF00FF', '#0000FF', '#FF9999', 'red', '#800080', '#CD5C5C', '#E59866', '#1F618D', '#6E2C00', '#17202A', '#85C1E9', '#F1948A']"
   ]
  },
  {
   "cell_type": "code",
   "execution_count": null,
   "metadata": {},
   "outputs": [],
   "source": [
    "unidade_pie = qtd_unidade.plot.pie(y='Quantidade',figsize=(17, 20), shadow=True, autopct='%1.1f%%', colors=colors)"
   ]
  },
  {
   "cell_type": "code",
   "execution_count": null,
   "metadata": {},
   "outputs": [],
   "source": [
    "unidade_pie_fig = unidade_pie.get_figure()"
   ]
  },
  {
   "cell_type": "code",
   "execution_count": null,
   "metadata": {},
   "outputs": [],
   "source": [
    "unidade_pie_fig.savefig('img/unidade_pie.pdf')"
   ]
  },
  {
   "cell_type": "code",
   "execution_count": null,
   "metadata": {},
   "outputs": [],
   "source": [
    "# ax = qtd_unidade.plot(color='teal',figsize=(10,10), label='Quantidade', legend=False)\n",
    "# unidade_bar = qtd_unidade.plot(color='teal',figsize=(10,10), label='Quantidade', kind='bar', ax=ax)\n",
    "unidade_bar = qtd_unidade.plot(color='orangered',figsize=(10,10), label='Quantidade', kind='bar')"
   ]
  },
  {
   "cell_type": "code",
   "execution_count": null,
   "metadata": {},
   "outputs": [],
   "source": [
    "for p in unidade_bar.patches: unidade_bar.annotate('{}'.format(str(p.get_height())), (p.get_x(), p.get_height()))"
   ]
  },
  {
   "cell_type": "code",
   "execution_count": null,
   "metadata": {},
   "outputs": [],
   "source": [
    "unidade_bar_fig = unidade_bar.get_figure()"
   ]
  },
  {
   "cell_type": "code",
   "execution_count": null,
   "metadata": {},
   "outputs": [],
   "source": [
    "unidade_bar_fig"
   ]
  },
  {
   "cell_type": "code",
   "execution_count": null,
   "metadata": {},
   "outputs": [],
   "source": [
    "unidade_bar_fig.savefig('img/unidade_bar.pdf')"
   ]
  },
  {
   "cell_type": "markdown",
   "metadata": {},
   "source": [
    "# **Quantidade por programa**"
   ]
  },
  {
   "cell_type": "code",
   "execution_count": null,
   "metadata": {},
   "outputs": [],
   "source": [
    "ordenado = df.groupby(['Programa']).count().reset_index().sort_values(by='Estudante',ascending=False)[['Programa','Estudante']].reset_index().drop('index',axis=1)"
   ]
  },
  {
   "cell_type": "code",
   "execution_count": null,
   "metadata": {},
   "outputs": [],
   "source": [
    "qtd_programa = ordenado.rename(columns={'Estudante':'Quantidade'}).set_index('Programa')"
   ]
  },
  {
   "cell_type": "code",
   "execution_count": null,
   "metadata": {},
   "outputs": [],
   "source": [
    "qtd_programa"
   ]
  },
  {
   "cell_type": "code",
   "execution_count": null,
   "metadata": {},
   "outputs": [],
   "source": [
    "qtd_programa.to_excel('docs/qtd_programa.xlsx')"
   ]
  },
  {
   "cell_type": "code",
   "execution_count": null,
   "metadata": {},
   "outputs": [],
   "source": [
    "programa_pie = qtd_programa.plot.pie(y='Quantidade',figsize=(17, 20), shadow=True, autopct='%1.1f%%')"
   ]
  },
  {
   "cell_type": "code",
   "execution_count": null,
   "metadata": {},
   "outputs": [],
   "source": [
    "programa_pie_fig = programa_pie.get_figure()"
   ]
  },
  {
   "cell_type": "code",
   "execution_count": null,
   "metadata": {},
   "outputs": [],
   "source": [
    "programa_pie_fig.savefig('img/programa_pie.pdf')"
   ]
  },
  {
   "cell_type": "code",
   "execution_count": null,
   "metadata": {},
   "outputs": [],
   "source": [
    "#ax = qtd_programa.plot(color='teal',figsize=(10,10), label='Quantidade', legend=False)\n",
    "programa_bar = qtd_programa.plot(color='darkorange',figsize=(10,10), label='Quantidade', kind='bar')"
   ]
  },
  {
   "cell_type": "code",
   "execution_count": null,
   "metadata": {},
   "outputs": [],
   "source": [
    "for p in programa_bar.patches: programa_bar.annotate('{}'.format(str(p.get_height())), (p.get_x(), p.get_height()))"
   ]
  },
  {
   "cell_type": "code",
   "execution_count": null,
   "metadata": {},
   "outputs": [],
   "source": [
    "programa_bar_fig = programa_bar.get_figure()"
   ]
  },
  {
   "cell_type": "code",
   "execution_count": null,
   "metadata": {},
   "outputs": [],
   "source": [
    "programa_bar_fig"
   ]
  },
  {
   "cell_type": "code",
   "execution_count": null,
   "metadata": {},
   "outputs": [],
   "source": [
    "programa_bar_fig.savefig('img/programa_bar.pdf')"
   ]
  },
  {
   "cell_type": "markdown",
   "metadata": {},
   "source": [
    "# **Quantidade de alunos que cada programa lançou em cada unidade**"
   ]
  },
  {
   "cell_type": "code",
   "execution_count": null,
   "metadata": {},
   "outputs": [],
   "source": [
    "ordenado_unidade = df.groupby(['Programa','Unidade']).count().reset_index().sort_values(by='Unidade',ascending=True)[['Programa','Unidade','Estudante']].reset_index().drop('index',axis=1)"
   ]
  },
  {
   "cell_type": "code",
   "execution_count": null,
   "metadata": {},
   "outputs": [],
   "source": [
    "qtd_proguni_unid = ordenado_unidade.rename(columns={'Estudante':'Quantidade'}).set_index('Unidade')"
   ]
  },
  {
   "cell_type": "code",
   "execution_count": null,
   "metadata": {},
   "outputs": [],
   "source": [
    "#qtd_proguni_unid.loc['CPPP']['Quantidade'].sum()"
   ]
  },
  {
   "cell_type": "code",
   "execution_count": null,
   "metadata": {},
   "outputs": [],
   "source": [
    "#qtd_proguni_unid.loc['CPPP'][['Programa','Quantidade']]"
   ]
  },
  {
   "cell_type": "code",
   "execution_count": null,
   "metadata": {},
   "outputs": [],
   "source": [
    "qtd_proguni_unid"
   ]
  },
  {
   "cell_type": "code",
   "execution_count": null,
   "metadata": {},
   "outputs": [],
   "source": [
    "qtd_proguni_unid.to_excel('docs/qtd_proguni_unid.xlsx')"
   ]
  },
  {
   "cell_type": "code",
   "execution_count": 849,
   "metadata": {},
   "outputs": [],
   "source": [
    "ordenado_prog = df.groupby(['Programa','Unidade']).count().reset_index().sort_values(by='Programa',ascending=True)[['Programa','Unidade','Estudante']].reset_index().drop('index',axis=1)"
   ]
  },
  {
   "cell_type": "code",
   "execution_count": 850,
   "metadata": {},
   "outputs": [],
   "source": [
    "qtd_proguni_prog = ordenado_prog.rename(columns={'Estudante':'Quantidade'}).set_index('Programa')"
   ]
  },
  {
   "cell_type": "code",
   "execution_count": 851,
   "metadata": {},
   "outputs": [],
   "source": [
    "#qtd_proguni_prog.loc['CPPP']['Quantidade'].sum()"
   ]
  },
  {
   "cell_type": "code",
   "execution_count": 852,
   "metadata": {},
   "outputs": [],
   "source": [
    "#qtd_proguni_prog.loc['CPPP'][['Programa','Quantidade']]"
   ]
  },
  {
   "cell_type": "code",
   "execution_count": 854,
   "metadata": {},
   "outputs": [
    {
     "data": {
      "text/html": [
       "<div>\n",
       "<style scoped>\n",
       "    .dataframe tbody tr th:only-of-type {\n",
       "        vertical-align: middle;\n",
       "    }\n",
       "\n",
       "    .dataframe tbody tr th {\n",
       "        vertical-align: top;\n",
       "    }\n",
       "\n",
       "    .dataframe thead th {\n",
       "        text-align: right;\n",
       "    }\n",
       "</style>\n",
       "<table border=\"1\" class=\"dataframe\">\n",
       "  <thead>\n",
       "    <tr style=\"text-align: right;\">\n",
       "      <th></th>\n",
       "      <th>Unidade</th>\n",
       "      <th>Quantidade</th>\n",
       "    </tr>\n",
       "    <tr>\n",
       "      <th>Programa</th>\n",
       "      <th></th>\n",
       "      <th></th>\n",
       "    </tr>\n",
       "  </thead>\n",
       "  <tbody>\n",
       "    <tr>\n",
       "      <th>CULT</th>\n",
       "      <td>CPAN</td>\n",
       "      <td>2</td>\n",
       "    </tr>\n",
       "    <tr>\n",
       "      <th>CULT</th>\n",
       "      <td>CPAQ</td>\n",
       "      <td>1</td>\n",
       "    </tr>\n",
       "    <tr>\n",
       "      <th>CULT</th>\n",
       "      <td>CPAR</td>\n",
       "      <td>2</td>\n",
       "    </tr>\n",
       "    <tr>\n",
       "      <th>CULT</th>\n",
       "      <td>CPNA</td>\n",
       "      <td>1</td>\n",
       "    </tr>\n",
       "    <tr>\n",
       "      <th>CULT</th>\n",
       "      <td>CPTL</td>\n",
       "      <td>1</td>\n",
       "    </tr>\n",
       "    <tr>\n",
       "      <th>CULT</th>\n",
       "      <td>FAALC</td>\n",
       "      <td>4</td>\n",
       "    </tr>\n",
       "    <tr>\n",
       "      <th>CULT</th>\n",
       "      <td>FAED</td>\n",
       "      <td>1</td>\n",
       "    </tr>\n",
       "    <tr>\n",
       "      <th>EJR</th>\n",
       "      <td>FAMEZ</td>\n",
       "      <td>1</td>\n",
       "    </tr>\n",
       "    <tr>\n",
       "      <th>EJR</th>\n",
       "      <td>FAENG</td>\n",
       "      <td>2</td>\n",
       "    </tr>\n",
       "    <tr>\n",
       "      <th>EJR</th>\n",
       "      <td>FACFAN</td>\n",
       "      <td>1</td>\n",
       "    </tr>\n",
       "    <tr>\n",
       "      <th>EJR</th>\n",
       "      <td>FADIR</td>\n",
       "      <td>1</td>\n",
       "    </tr>\n",
       "    <tr>\n",
       "      <th>EJR</th>\n",
       "      <td>ESAN</td>\n",
       "      <td>1</td>\n",
       "    </tr>\n",
       "    <tr>\n",
       "      <th>EJR</th>\n",
       "      <td>CPTL</td>\n",
       "      <td>1</td>\n",
       "    </tr>\n",
       "    <tr>\n",
       "      <th>EJR</th>\n",
       "      <td>CPAN</td>\n",
       "      <td>1</td>\n",
       "    </tr>\n",
       "    <tr>\n",
       "      <th>EJR</th>\n",
       "      <td>FAALC</td>\n",
       "      <td>1</td>\n",
       "    </tr>\n",
       "    <tr>\n",
       "      <th>ENEX</th>\n",
       "      <td>FACFAN</td>\n",
       "      <td>13</td>\n",
       "    </tr>\n",
       "    <tr>\n",
       "      <th>ENEX</th>\n",
       "      <td>INISA</td>\n",
       "      <td>16</td>\n",
       "    </tr>\n",
       "    <tr>\n",
       "      <th>ENEX</th>\n",
       "      <td>INFI</td>\n",
       "      <td>2</td>\n",
       "    </tr>\n",
       "    <tr>\n",
       "      <th>ENEX</th>\n",
       "      <td>INBIO</td>\n",
       "      <td>5</td>\n",
       "    </tr>\n",
       "    <tr>\n",
       "      <th>ENEX</th>\n",
       "      <td>FAODO</td>\n",
       "      <td>3</td>\n",
       "    </tr>\n",
       "    <tr>\n",
       "      <th>ENEX</th>\n",
       "      <td>FAMEZ</td>\n",
       "      <td>2</td>\n",
       "    </tr>\n",
       "    <tr>\n",
       "      <th>ENEX</th>\n",
       "      <td>FAENG</td>\n",
       "      <td>6</td>\n",
       "    </tr>\n",
       "    <tr>\n",
       "      <th>ENEX</th>\n",
       "      <td>FAED</td>\n",
       "      <td>9</td>\n",
       "    </tr>\n",
       "    <tr>\n",
       "      <th>ENEX</th>\n",
       "      <td>FACOM</td>\n",
       "      <td>1</td>\n",
       "    </tr>\n",
       "    <tr>\n",
       "      <th>ENEX</th>\n",
       "      <td>FAALC</td>\n",
       "      <td>7</td>\n",
       "    </tr>\n",
       "    <tr>\n",
       "      <th>ENEX</th>\n",
       "      <td>CPCX</td>\n",
       "      <td>9</td>\n",
       "    </tr>\n",
       "    <tr>\n",
       "      <th>ENEX</th>\n",
       "      <td>CPTL</td>\n",
       "      <td>5</td>\n",
       "    </tr>\n",
       "    <tr>\n",
       "      <th>ENEX</th>\n",
       "      <td>CPPP</td>\n",
       "      <td>3</td>\n",
       "    </tr>\n",
       "    <tr>\n",
       "      <th>ENEX</th>\n",
       "      <td>CPNV</td>\n",
       "      <td>2</td>\n",
       "    </tr>\n",
       "    <tr>\n",
       "      <th>ENEX</th>\n",
       "      <td>CPNA</td>\n",
       "      <td>3</td>\n",
       "    </tr>\n",
       "    <tr>\n",
       "      <th>...</th>\n",
       "      <td>...</td>\n",
       "      <td>...</td>\n",
       "    </tr>\n",
       "    <tr>\n",
       "      <th>PIVIC</th>\n",
       "      <td>FAALC</td>\n",
       "      <td>14</td>\n",
       "    </tr>\n",
       "    <tr>\n",
       "      <th>PIVIC</th>\n",
       "      <td>CPPP</td>\n",
       "      <td>3</td>\n",
       "    </tr>\n",
       "    <tr>\n",
       "      <th>PIVIC</th>\n",
       "      <td>FACH</td>\n",
       "      <td>9</td>\n",
       "    </tr>\n",
       "    <tr>\n",
       "      <th>PPG</th>\n",
       "      <td>FADIR</td>\n",
       "      <td>7</td>\n",
       "    </tr>\n",
       "    <tr>\n",
       "      <th>PPG</th>\n",
       "      <td>INQUI</td>\n",
       "      <td>1</td>\n",
       "    </tr>\n",
       "    <tr>\n",
       "      <th>PPG</th>\n",
       "      <td>INISA</td>\n",
       "      <td>7</td>\n",
       "    </tr>\n",
       "    <tr>\n",
       "      <th>PPG</th>\n",
       "      <td>INBIO</td>\n",
       "      <td>3</td>\n",
       "    </tr>\n",
       "    <tr>\n",
       "      <th>PPG</th>\n",
       "      <td>FAMED</td>\n",
       "      <td>5</td>\n",
       "    </tr>\n",
       "    <tr>\n",
       "      <th>PPG</th>\n",
       "      <td>FAENG</td>\n",
       "      <td>10</td>\n",
       "    </tr>\n",
       "    <tr>\n",
       "      <th>PPG</th>\n",
       "      <td>FAED</td>\n",
       "      <td>2</td>\n",
       "    </tr>\n",
       "    <tr>\n",
       "      <th>PPG</th>\n",
       "      <td>FACOM</td>\n",
       "      <td>3</td>\n",
       "    </tr>\n",
       "    <tr>\n",
       "      <th>PPG</th>\n",
       "      <td>FACFAN</td>\n",
       "      <td>3</td>\n",
       "    </tr>\n",
       "    <tr>\n",
       "      <th>PPG</th>\n",
       "      <td>FAALC</td>\n",
       "      <td>8</td>\n",
       "    </tr>\n",
       "    <tr>\n",
       "      <th>PPG</th>\n",
       "      <td>ESAN</td>\n",
       "      <td>2</td>\n",
       "    </tr>\n",
       "    <tr>\n",
       "      <th>PPG</th>\n",
       "      <td>CPTL</td>\n",
       "      <td>7</td>\n",
       "    </tr>\n",
       "    <tr>\n",
       "      <th>PPG</th>\n",
       "      <td>CPAR</td>\n",
       "      <td>1</td>\n",
       "    </tr>\n",
       "    <tr>\n",
       "      <th>PPG</th>\n",
       "      <td>CPAN</td>\n",
       "      <td>21</td>\n",
       "    </tr>\n",
       "    <tr>\n",
       "      <th>PPG</th>\n",
       "      <td>FACH</td>\n",
       "      <td>4</td>\n",
       "    </tr>\n",
       "    <tr>\n",
       "      <th>RP</th>\n",
       "      <td>INBIO</td>\n",
       "      <td>1</td>\n",
       "    </tr>\n",
       "    <tr>\n",
       "      <th>RP</th>\n",
       "      <td>FAED</td>\n",
       "      <td>1</td>\n",
       "    </tr>\n",
       "    <tr>\n",
       "      <th>RP</th>\n",
       "      <td>FACH</td>\n",
       "      <td>1</td>\n",
       "    </tr>\n",
       "    <tr>\n",
       "      <th>RP</th>\n",
       "      <td>CPTL</td>\n",
       "      <td>3</td>\n",
       "    </tr>\n",
       "    <tr>\n",
       "      <th>RP</th>\n",
       "      <td>CPPP</td>\n",
       "      <td>1</td>\n",
       "    </tr>\n",
       "    <tr>\n",
       "      <th>RP</th>\n",
       "      <td>CPAR</td>\n",
       "      <td>1</td>\n",
       "    </tr>\n",
       "    <tr>\n",
       "      <th>RP</th>\n",
       "      <td>CPCX</td>\n",
       "      <td>1</td>\n",
       "    </tr>\n",
       "    <tr>\n",
       "      <th>RP</th>\n",
       "      <td>CPAQ</td>\n",
       "      <td>5</td>\n",
       "    </tr>\n",
       "    <tr>\n",
       "      <th>RP</th>\n",
       "      <td>CPAN</td>\n",
       "      <td>6</td>\n",
       "    </tr>\n",
       "    <tr>\n",
       "      <th>RP</th>\n",
       "      <td>INMA</td>\n",
       "      <td>1</td>\n",
       "    </tr>\n",
       "    <tr>\n",
       "      <th>RP</th>\n",
       "      <td>CPNV</td>\n",
       "      <td>1</td>\n",
       "    </tr>\n",
       "    <tr>\n",
       "      <th>RP</th>\n",
       "      <td>INQUI</td>\n",
       "      <td>1</td>\n",
       "    </tr>\n",
       "  </tbody>\n",
       "</table>\n",
       "<p>178 rows × 2 columns</p>\n",
       "</div>"
      ],
      "text/plain": [
       "         Unidade  Quantidade\n",
       "Programa                    \n",
       "CULT        CPAN           2\n",
       "CULT        CPAQ           1\n",
       "CULT        CPAR           2\n",
       "CULT        CPNA           1\n",
       "CULT        CPTL           1\n",
       "CULT       FAALC           4\n",
       "CULT        FAED           1\n",
       "EJR        FAMEZ           1\n",
       "EJR        FAENG           2\n",
       "EJR       FACFAN           1\n",
       "EJR        FADIR           1\n",
       "EJR         ESAN           1\n",
       "EJR         CPTL           1\n",
       "EJR         CPAN           1\n",
       "EJR        FAALC           1\n",
       "ENEX      FACFAN          13\n",
       "ENEX       INISA          16\n",
       "ENEX        INFI           2\n",
       "ENEX       INBIO           5\n",
       "ENEX       FAODO           3\n",
       "ENEX       FAMEZ           2\n",
       "ENEX       FAENG           6\n",
       "ENEX        FAED           9\n",
       "ENEX       FACOM           1\n",
       "ENEX       FAALC           7\n",
       "ENEX        CPCX           9\n",
       "ENEX        CPTL           5\n",
       "ENEX        CPPP           3\n",
       "ENEX        CPNV           2\n",
       "ENEX        CPNA           3\n",
       "...          ...         ...\n",
       "PIVIC      FAALC          14\n",
       "PIVIC       CPPP           3\n",
       "PIVIC       FACH           9\n",
       "PPG        FADIR           7\n",
       "PPG        INQUI           1\n",
       "PPG        INISA           7\n",
       "PPG        INBIO           3\n",
       "PPG        FAMED           5\n",
       "PPG        FAENG          10\n",
       "PPG         FAED           2\n",
       "PPG        FACOM           3\n",
       "PPG       FACFAN           3\n",
       "PPG        FAALC           8\n",
       "PPG         ESAN           2\n",
       "PPG         CPTL           7\n",
       "PPG         CPAR           1\n",
       "PPG         CPAN          21\n",
       "PPG         FACH           4\n",
       "RP         INBIO           1\n",
       "RP          FAED           1\n",
       "RP          FACH           1\n",
       "RP          CPTL           3\n",
       "RP          CPPP           1\n",
       "RP          CPAR           1\n",
       "RP          CPCX           1\n",
       "RP          CPAQ           5\n",
       "RP          CPAN           6\n",
       "RP          INMA           1\n",
       "RP          CPNV           1\n",
       "RP         INQUI           1\n",
       "\n",
       "[178 rows x 2 columns]"
      ]
     },
     "execution_count": 854,
     "metadata": {},
     "output_type": "execute_result"
    }
   ],
   "source": [
    "qtd_proguni_prog"
   ]
  },
  {
   "cell_type": "code",
   "execution_count": 855,
   "metadata": {},
   "outputs": [],
   "source": [
    "qtd_proguni_prog.to_excel('docs/qtd_proguni_prog.xlsx')"
   ]
  },
  {
   "cell_type": "code",
   "execution_count": 856,
   "metadata": {},
   "outputs": [],
   "source": [
    "dfs = {'Ordenado por Unidade':qtd_proguni_unid, 'Ordenado por Programa':qtd_proguni_prog}"
   ]
  },
  {
   "cell_type": "code",
   "execution_count": 859,
   "metadata": {},
   "outputs": [
    {
     "data": {
      "text/plain": [
       "{'Ordenado por Unidade':         Programa  Quantidade\n",
       " Unidade                     \n",
       " CPAN        CULT           2\n",
       " CPAN       PAEXT           4\n",
       " CPAN         PEG           2\n",
       " CPAN         PET           4\n",
       " CPAN        ENEX          16\n",
       " CPAN       PIBIC          22\n",
       " CPAN       PIBID           7\n",
       " CPAN       PIVIC           7\n",
       " CPAN         ESP           3\n",
       " CPAN          RP           6\n",
       " CPAN         EJR           1\n",
       " CPAN         PPG          21\n",
       " CPAQ          RP           5\n",
       " CPAQ        CULT           1\n",
       " CPAQ       PAEXT           7\n",
       " CPAQ         PEG           1\n",
       " CPAQ       PIBIC          19\n",
       " CPAQ       PIVIC          15\n",
       " CPAQ       PIBID           8\n",
       " CPAQ        ENEX           1\n",
       " CPAR       PIVIC           2\n",
       " CPAR         PPG           1\n",
       " CPAR         PEG           3\n",
       " CPAR       LIGAS           1\n",
       " CPAR       PIBIC           8\n",
       " CPAR       PAEXT           2\n",
       " CPAR       PIBID           1\n",
       " CPAR          RP           1\n",
       " CPAR        CULT           2\n",
       " CPAR        ENEX           8\n",
       " ...          ...         ...\n",
       " INBIO      PIVIC           8\n",
       " INBIO      PIBID           1\n",
       " INBIO         RP           1\n",
       " INBIO        PEG           1\n",
       " INBIO       ENEX           5\n",
       " INFI       PIBIC          10\n",
       " INFI        ENEX           2\n",
       " INFI         PET           2\n",
       " INFI       PAEXT           1\n",
       " INISA       ENEX          16\n",
       " INISA        PEG           1\n",
       " INISA      LIGAS           2\n",
       " INISA      PIVIC           7\n",
       " INISA        PPG           7\n",
       " INISA      PAEXT          10\n",
       " INISA      PIBIC          23\n",
       " INMA          RP           1\n",
       " INMA       PIBID           1\n",
       " INMA       PIVIC           1\n",
       " INMA       PAEXT           1\n",
       " INMA       PIBIC           3\n",
       " INQUI        PET           2\n",
       " INQUI      PIVIC           4\n",
       " INQUI      PIBID           1\n",
       " INQUI      PIBIC          24\n",
       " INQUI      PAEXT           1\n",
       " INQUI        PPG           1\n",
       " INQUI         RP           1\n",
       " NHU        PAEXT           1\n",
       " PROECE     PAEXT           2\n",
       " \n",
       " [178 rows x 2 columns], 'Ordenado por Programa':          Unidade  Quantidade\n",
       " Programa                    \n",
       " CULT        CPAN           2\n",
       " CULT        CPAQ           1\n",
       " CULT        CPAR           2\n",
       " CULT        CPNA           1\n",
       " CULT        CPTL           1\n",
       " CULT       FAALC           4\n",
       " CULT        FAED           1\n",
       " EJR        FAMEZ           1\n",
       " EJR        FAENG           2\n",
       " EJR       FACFAN           1\n",
       " EJR        FADIR           1\n",
       " EJR         ESAN           1\n",
       " EJR         CPTL           1\n",
       " EJR         CPAN           1\n",
       " EJR        FAALC           1\n",
       " ENEX      FACFAN          13\n",
       " ENEX       INISA          16\n",
       " ENEX        INFI           2\n",
       " ENEX       INBIO           5\n",
       " ENEX       FAODO           3\n",
       " ENEX       FAMEZ           2\n",
       " ENEX       FAENG           6\n",
       " ENEX        FAED           9\n",
       " ENEX       FACOM           1\n",
       " ENEX       FAALC           7\n",
       " ENEX        CPCX           9\n",
       " ENEX        CPTL           5\n",
       " ENEX        CPPP           3\n",
       " ENEX        CPNV           2\n",
       " ENEX        CPNA           3\n",
       " ...          ...         ...\n",
       " PIVIC      FAALC          14\n",
       " PIVIC       CPPP           3\n",
       " PIVIC       FACH           9\n",
       " PPG        FADIR           7\n",
       " PPG        INQUI           1\n",
       " PPG        INISA           7\n",
       " PPG        INBIO           3\n",
       " PPG        FAMED           5\n",
       " PPG        FAENG          10\n",
       " PPG         FAED           2\n",
       " PPG        FACOM           3\n",
       " PPG       FACFAN           3\n",
       " PPG        FAALC           8\n",
       " PPG         ESAN           2\n",
       " PPG         CPTL           7\n",
       " PPG         CPAR           1\n",
       " PPG         CPAN          21\n",
       " PPG         FACH           4\n",
       " RP         INBIO           1\n",
       " RP          FAED           1\n",
       " RP          FACH           1\n",
       " RP          CPTL           3\n",
       " RP          CPPP           1\n",
       " RP          CPAR           1\n",
       " RP          CPCX           1\n",
       " RP          CPAQ           5\n",
       " RP          CPAN           6\n",
       " RP          INMA           1\n",
       " RP          CPNV           1\n",
       " RP         INQUI           1\n",
       " \n",
       " [178 rows x 2 columns]}"
      ]
     },
     "execution_count": 859,
     "metadata": {},
     "output_type": "execute_result"
    }
   ],
   "source": [
    "dfs"
   ]
  },
  {
   "cell_type": "code",
   "execution_count": 860,
   "metadata": {},
   "outputs": [],
   "source": [
    "writer = pd.ExcelWriter('docs/prog_unid.xlsx', engine='xlsxwriter')\n",
    "for sheet_name in dfs.keys(): dfs[sheet_name].to_excel(writer, sheet_name=sheet_name, index=True)\n",
    "writer.save()"
   ]
  },
  {
   "cell_type": "markdown",
   "metadata": {},
   "source": [
    "# **Alunos que submeteram mais de dois trabalhos**"
   ]
  },
  {
   "cell_type": "code",
   "execution_count": null,
   "metadata": {},
   "outputs": [],
   "source": [
    "x = df.groupby(['Estudante','Unidade']).count().reset_index()[['Estudante','Unidade','Data da apresentação']].reset_index().sort_values(by='Unidade',ascending=True).drop('index',axis=1)"
   ]
  },
  {
   "cell_type": "code",
   "execution_count": null,
   "metadata": {},
   "outputs": [],
   "source": [
    "estudante = x.rename(columns={'Data da apresentação':'Quantidade'})"
   ]
  },
  {
   "cell_type": "code",
   "execution_count": null,
   "metadata": {},
   "outputs": [],
   "source": [
    "aluno_excel = estudante[estudante['Quantidade']>1].reset_index().drop('index',axis=1)"
   ]
  },
  {
   "cell_type": "code",
   "execution_count": null,
   "metadata": {},
   "outputs": [],
   "source": [
    "aluno_excel"
   ]
  },
  {
   "cell_type": "code",
   "execution_count": null,
   "metadata": {},
   "outputs": [],
   "source": [
    "aluno_excel.to_excel('qtd_aluno.xlsx',index=False)"
   ]
  },
  {
   "cell_type": "code",
   "execution_count": null,
   "metadata": {},
   "outputs": [],
   "source": []
  }
 ],
 "metadata": {
  "kernelspec": {
   "display_name": "Python 3",
   "language": "python",
   "name": "python3"
  },
  "language_info": {
   "codemirror_mode": {
    "name": "ipython",
    "version": 3
   },
   "file_extension": ".py",
   "mimetype": "text/x-python",
   "name": "python",
   "nbconvert_exporter": "python",
   "pygments_lexer": "ipython3",
   "version": "3.6.7"
  }
 },
 "nbformat": 4,
 "nbformat_minor": 2
}
